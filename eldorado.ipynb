{
 "cells": [
  {
   "cell_type": "code",
   "execution_count": 262,
   "metadata": {
    "collapsed": false
   },
   "outputs": [
    {
     "name": "stdout",
     "output_type": "stream",
     "text": [
      "Populating the interactive namespace from numpy and matplotlib\n"
     ]
    }
   ],
   "source": [
    "import pandas as pd\n",
    "import numpy as np\n",
    "import matplotlib\n",
    "import matplotlib.pyplot as plt\n",
    "from sklearn.grid_search import GridSearchCV\n",
    "from sklearn.tree import DecisionTreeClassifier\n",
    "from sklearn.ensemble import RandomForestClassifier\n",
    "from sklearn.cross_validation import KFold\n",
    "from sklearn.metrics import roc_auc_score\n",
    "%pylab inline"
   ]
  },
  {
   "cell_type": "markdown",
   "metadata": {},
   "source": [
    "Считываем данные"
   ]
  },
  {
   "cell_type": "code",
   "execution_count": 263,
   "metadata": {
    "collapsed": false
   },
   "outputs": [],
   "source": [
    "data = pd.read_csv('ELDORADO.csv')\n",
    "data_frame = data.ix[ : , : -1]\n",
    "target_variable = data.ix[ : , -1]"
   ]
  },
  {
   "cell_type": "code",
   "execution_count": 264,
   "metadata": {
    "collapsed": false
   },
   "outputs": [
    {
     "name": "stdout",
     "output_type": "stream",
     "text": [
      "(2100, 18)\n"
     ]
    },
    {
     "data": {
      "text/html": [
       "<div>\n",
       "<table border=\"1\" class=\"dataframe\">\n",
       "  <thead>\n",
       "    <tr style=\"text-align: right;\">\n",
       "      <th></th>\n",
       "      <th>employee_id</th>\n",
       "      <th>factor_1</th>\n",
       "      <th>factor_2</th>\n",
       "      <th>factor_3</th>\n",
       "      <th>factor_4</th>\n",
       "      <th>factor_5</th>\n",
       "      <th>factor_6</th>\n",
       "      <th>factor_7</th>\n",
       "      <th>factor_8</th>\n",
       "      <th>factor_9</th>\n",
       "      <th>factor_10</th>\n",
       "      <th>factor_11</th>\n",
       "      <th>factor_12</th>\n",
       "      <th>factor_13</th>\n",
       "      <th>factor_14</th>\n",
       "      <th>factor_15</th>\n",
       "      <th>factor_16</th>\n",
       "      <th>fired</th>\n",
       "    </tr>\n",
       "  </thead>\n",
       "  <tbody>\n",
       "    <tr>\n",
       "      <th>0</th>\n",
       "      <td>957099050466813076</td>\n",
       "      <td>3529</td>\n",
       "      <td>500934542</td>\n",
       "      <td>3012</td>\n",
       "      <td>378</td>\n",
       "      <td>1557</td>\n",
       "      <td>4091</td>\n",
       "      <td>167</td>\n",
       "      <td>0</td>\n",
       "      <td>30</td>\n",
       "      <td>16697818</td>\n",
       "      <td>0</td>\n",
       "      <td>141948</td>\n",
       "      <td>10</td>\n",
       "      <td>38</td>\n",
       "      <td>5</td>\n",
       "      <td>0</td>\n",
       "      <td>0</td>\n",
       "    </tr>\n",
       "    <tr>\n",
       "      <th>1</th>\n",
       "      <td>13164358679111999796</td>\n",
       "      <td>2017</td>\n",
       "      <td>490702594</td>\n",
       "      <td>1958</td>\n",
       "      <td>453</td>\n",
       "      <td>1238</td>\n",
       "      <td>2548</td>\n",
       "      <td>185</td>\n",
       "      <td>0</td>\n",
       "      <td>30</td>\n",
       "      <td>16356753</td>\n",
       "      <td>0</td>\n",
       "      <td>243283</td>\n",
       "      <td>22</td>\n",
       "      <td>48</td>\n",
       "      <td>9</td>\n",
       "      <td>0</td>\n",
       "      <td>0</td>\n",
       "    </tr>\n",
       "    <tr>\n",
       "      <th>2</th>\n",
       "      <td>5442250097157630866</td>\n",
       "      <td>169</td>\n",
       "      <td>43802030</td>\n",
       "      <td>162</td>\n",
       "      <td>28</td>\n",
       "      <td>0</td>\n",
       "      <td>189</td>\n",
       "      <td>8</td>\n",
       "      <td>0</td>\n",
       "      <td>30</td>\n",
       "      <td>1460067</td>\n",
       "      <td>0</td>\n",
       "      <td>259183</td>\n",
       "      <td>16</td>\n",
       "      <td>0</td>\n",
       "      <td>4</td>\n",
       "      <td>0</td>\n",
       "      <td>0</td>\n",
       "    </tr>\n",
       "    <tr>\n",
       "      <th>3</th>\n",
       "      <td>9345017131298737624</td>\n",
       "      <td>844</td>\n",
       "      <td>201061365</td>\n",
       "      <td>781</td>\n",
       "      <td>256</td>\n",
       "      <td>172</td>\n",
       "      <td>928</td>\n",
       "      <td>42</td>\n",
       "      <td>0</td>\n",
       "      <td>30</td>\n",
       "      <td>6702045</td>\n",
       "      <td>0</td>\n",
       "      <td>238224</td>\n",
       "      <td>30</td>\n",
       "      <td>18</td>\n",
       "      <td>5</td>\n",
       "      <td>0</td>\n",
       "      <td>0</td>\n",
       "    </tr>\n",
       "    <tr>\n",
       "      <th>4</th>\n",
       "      <td>6389462342858680146</td>\n",
       "      <td>213</td>\n",
       "      <td>95858986</td>\n",
       "      <td>197</td>\n",
       "      <td>46</td>\n",
       "      <td>0</td>\n",
       "      <td>391</td>\n",
       "      <td>10</td>\n",
       "      <td>0</td>\n",
       "      <td>30</td>\n",
       "      <td>3195299</td>\n",
       "      <td>0</td>\n",
       "      <td>450042</td>\n",
       "      <td>21</td>\n",
       "      <td>0</td>\n",
       "      <td>5</td>\n",
       "      <td>0</td>\n",
       "      <td>0</td>\n",
       "    </tr>\n",
       "  </tbody>\n",
       "</table>\n",
       "</div>"
      ],
      "text/plain": [
       "            employee_id  factor_1   factor_2  factor_3  factor_4  factor_5  \\\n",
       "0    957099050466813076      3529  500934542      3012       378      1557   \n",
       "1  13164358679111999796      2017  490702594      1958       453      1238   \n",
       "2   5442250097157630866       169   43802030       162        28         0   \n",
       "3   9345017131298737624       844  201061365       781       256       172   \n",
       "4   6389462342858680146       213   95858986       197        46         0   \n",
       "\n",
       "   factor_6  factor_7  factor_8  factor_9  factor_10  factor_11  factor_12  \\\n",
       "0      4091       167         0        30   16697818          0     141948   \n",
       "1      2548       185         0        30   16356753          0     243283   \n",
       "2       189         8         0        30    1460067          0     259183   \n",
       "3       928        42         0        30    6702045          0     238224   \n",
       "4       391        10         0        30    3195299          0     450042   \n",
       "\n",
       "   factor_13  factor_14  factor_15  factor_16  fired  \n",
       "0         10         38          5          0      0  \n",
       "1         22         48          9          0      0  \n",
       "2         16          0          4          0      0  \n",
       "3         30         18          5          0      0  \n",
       "4         21          0          5          0      0  "
      ]
     },
     "execution_count": 264,
     "metadata": {},
     "output_type": "execute_result"
    }
   ],
   "source": [
    "print(data.shape)\n",
    "data[:5]"
   ]
  },
  {
   "cell_type": "markdown",
   "metadata": {},
   "source": [
    "Итак, мы имеем 2100 объектов, при этом 94 из них размечены единицами (4.5%), остальные - нулями."
   ]
  },
  {
   "cell_type": "markdown",
   "metadata": {},
   "source": [
    "При более детальном изучении данных, можно заметить, что факторы 8 и 16 связаны: равны 0 или больше 0 одновременно. "
   ]
  },
  {
   "cell_type": "markdown",
   "metadata": {},
   "source": [
    "Если фактор 8 (или 16) положителен, то в 27 случаях из 29 объект размечается единицей. \n",
    "    (Если бы данных было больше, это могло бы дать основание написать разные классификаторы \n",
    "     для объектов с нулевым и положительным фактором 8)"
   ]
  },
  {
   "cell_type": "markdown",
   "metadata": {},
   "source": [
    "По внешнему виду факторов можно сделать некоторые выводы: \n",
    "    фактор 9 похож на дату, факторы  13, 14, 15 похожи на проценты,\n",
    "    факторы 11 и 16, скорее всего, являются категориальными признаками."
   ]
  },
  {
   "cell_type": "markdown",
   "metadata": {},
   "source": [
    "Отсутствие знаний про природу признаков (трудно придумать адекватную метрику), \n",
    "    а также вероятное наличие среди них категориальных признаков делает применение метрических классификаторов \n",
    "    нецелесообразным. Поэтому будем пользоваться древесными алгоритмами и их ансамблями."
   ]
  },
  {
   "cell_type": "markdown",
   "metadata": {},
   "source": [
    "Введем новый категориальный признак: 1, если 16-ый признак положительный, 0 - иначе."
   ]
  },
  {
   "cell_type": "code",
   "execution_count": 265,
   "metadata": {
    "collapsed": false
   },
   "outputs": [],
   "source": [
    "new_factor_17 = pd.DataFrame([1 if item > 0 else 0 for item in data_frame.ix[ : , 16]], columns = ['new_factor_17'])"
   ]
  },
  {
   "cell_type": "markdown",
   "metadata": {},
   "source": [
    "Присоединим его к нашим старым признакам"
   ]
  },
  {
   "cell_type": "code",
   "execution_count": 266,
   "metadata": {
    "collapsed": false
   },
   "outputs": [],
   "source": [
    "new_data_frame = pd.DataFrame(np.c_[data_frame, new_feature_17], \n",
    "                              columns = np.append(data_frame.columns.values, new_factor_17.columns.values))"
   ]
  },
  {
   "cell_type": "code",
   "execution_count": 267,
   "metadata": {
    "collapsed": false
   },
   "outputs": [
    {
     "data": {
      "text/html": [
       "<div>\n",
       "<table border=\"1\" class=\"dataframe\">\n",
       "  <thead>\n",
       "    <tr style=\"text-align: right;\">\n",
       "      <th></th>\n",
       "      <th>employee_id</th>\n",
       "      <th>factor_1</th>\n",
       "      <th>factor_2</th>\n",
       "      <th>factor_3</th>\n",
       "      <th>factor_4</th>\n",
       "      <th>factor_5</th>\n",
       "      <th>factor_6</th>\n",
       "      <th>factor_7</th>\n",
       "      <th>factor_8</th>\n",
       "      <th>factor_9</th>\n",
       "      <th>factor_10</th>\n",
       "      <th>factor_11</th>\n",
       "      <th>factor_12</th>\n",
       "      <th>factor_13</th>\n",
       "      <th>factor_14</th>\n",
       "      <th>factor_15</th>\n",
       "      <th>factor_16</th>\n",
       "      <th>new_factor_17</th>\n",
       "    </tr>\n",
       "  </thead>\n",
       "  <tbody>\n",
       "    <tr>\n",
       "      <th>0</th>\n",
       "      <td>957099050466813076</td>\n",
       "      <td>3529</td>\n",
       "      <td>500934542</td>\n",
       "      <td>3012</td>\n",
       "      <td>378</td>\n",
       "      <td>1557</td>\n",
       "      <td>4091</td>\n",
       "      <td>167</td>\n",
       "      <td>0</td>\n",
       "      <td>30</td>\n",
       "      <td>16697818</td>\n",
       "      <td>0</td>\n",
       "      <td>141948</td>\n",
       "      <td>10</td>\n",
       "      <td>38</td>\n",
       "      <td>5</td>\n",
       "      <td>0</td>\n",
       "      <td>0</td>\n",
       "    </tr>\n",
       "    <tr>\n",
       "      <th>1</th>\n",
       "      <td>13164358679111999796</td>\n",
       "      <td>2017</td>\n",
       "      <td>490702594</td>\n",
       "      <td>1958</td>\n",
       "      <td>453</td>\n",
       "      <td>1238</td>\n",
       "      <td>2548</td>\n",
       "      <td>185</td>\n",
       "      <td>0</td>\n",
       "      <td>30</td>\n",
       "      <td>16356753</td>\n",
       "      <td>0</td>\n",
       "      <td>243283</td>\n",
       "      <td>22</td>\n",
       "      <td>48</td>\n",
       "      <td>9</td>\n",
       "      <td>0</td>\n",
       "      <td>0</td>\n",
       "    </tr>\n",
       "    <tr>\n",
       "      <th>2</th>\n",
       "      <td>5442250097157630866</td>\n",
       "      <td>169</td>\n",
       "      <td>43802030</td>\n",
       "      <td>162</td>\n",
       "      <td>28</td>\n",
       "      <td>0</td>\n",
       "      <td>189</td>\n",
       "      <td>8</td>\n",
       "      <td>0</td>\n",
       "      <td>30</td>\n",
       "      <td>1460067</td>\n",
       "      <td>0</td>\n",
       "      <td>259183</td>\n",
       "      <td>16</td>\n",
       "      <td>0</td>\n",
       "      <td>4</td>\n",
       "      <td>0</td>\n",
       "      <td>0</td>\n",
       "    </tr>\n",
       "    <tr>\n",
       "      <th>3</th>\n",
       "      <td>9345017131298737624</td>\n",
       "      <td>844</td>\n",
       "      <td>201061365</td>\n",
       "      <td>781</td>\n",
       "      <td>256</td>\n",
       "      <td>172</td>\n",
       "      <td>928</td>\n",
       "      <td>42</td>\n",
       "      <td>0</td>\n",
       "      <td>30</td>\n",
       "      <td>6702045</td>\n",
       "      <td>0</td>\n",
       "      <td>238224</td>\n",
       "      <td>30</td>\n",
       "      <td>18</td>\n",
       "      <td>5</td>\n",
       "      <td>0</td>\n",
       "      <td>0</td>\n",
       "    </tr>\n",
       "    <tr>\n",
       "      <th>4</th>\n",
       "      <td>6389462342858680146</td>\n",
       "      <td>213</td>\n",
       "      <td>95858986</td>\n",
       "      <td>197</td>\n",
       "      <td>46</td>\n",
       "      <td>0</td>\n",
       "      <td>391</td>\n",
       "      <td>10</td>\n",
       "      <td>0</td>\n",
       "      <td>30</td>\n",
       "      <td>3195299</td>\n",
       "      <td>0</td>\n",
       "      <td>450042</td>\n",
       "      <td>21</td>\n",
       "      <td>0</td>\n",
       "      <td>5</td>\n",
       "      <td>0</td>\n",
       "      <td>0</td>\n",
       "    </tr>\n",
       "  </tbody>\n",
       "</table>\n",
       "</div>"
      ],
      "text/plain": [
       "            employee_id factor_1   factor_2 factor_3 factor_4 factor_5  \\\n",
       "0    957099050466813076     3529  500934542     3012      378     1557   \n",
       "1  13164358679111999796     2017  490702594     1958      453     1238   \n",
       "2   5442250097157630866      169   43802030      162       28        0   \n",
       "3   9345017131298737624      844  201061365      781      256      172   \n",
       "4   6389462342858680146      213   95858986      197       46        0   \n",
       "\n",
       "  factor_6 factor_7 factor_8 factor_9 factor_10 factor_11 factor_12 factor_13  \\\n",
       "0     4091      167        0       30  16697818         0    141948        10   \n",
       "1     2548      185        0       30  16356753         0    243283        22   \n",
       "2      189        8        0       30   1460067         0    259183        16   \n",
       "3      928       42        0       30   6702045         0    238224        30   \n",
       "4      391       10        0       30   3195299         0    450042        21   \n",
       "\n",
       "  factor_14 factor_15 factor_16 new_factor_17  \n",
       "0        38         5         0             0  \n",
       "1        48         9         0             0  \n",
       "2         0         4         0             0  \n",
       "3        18         5         0             0  \n",
       "4         0         5         0             0  "
      ]
     },
     "execution_count": 267,
     "metadata": {},
     "output_type": "execute_result"
    }
   ],
   "source": [
    "new_data_frame[:5]"
   ]
  },
  {
   "cell_type": "markdown",
   "metadata": {},
   "source": [
    "Исключим 'employee_id' из числа наших признаков"
   ]
  },
  {
   "cell_type": "code",
   "execution_count": 268,
   "metadata": {
    "collapsed": false
   },
   "outputs": [],
   "source": [
    "small_data_frame = data_frame.ix[ : , 1 : ]"
   ]
  },
  {
   "cell_type": "markdown",
   "metadata": {
    "collapsed": true
   },
   "source": [
    "Построим дерево решений, оптимизируя его максимальную глубину"
   ]
  },
  {
   "cell_type": "code",
   "execution_count": 269,
   "metadata": {
    "collapsed": false
   },
   "outputs": [
    {
     "name": "stdout",
     "output_type": "stream",
     "text": [
      "0.955714838371\n",
      "DecisionTreeClassifier(class_weight=None, criterion='gini', max_depth=4,\n",
      "            max_features=None, max_leaf_nodes=None, min_samples_leaf=1,\n",
      "            min_samples_split=2, min_weight_fraction_leaf=0.0,\n",
      "            random_state=None, splitter='best')\n"
     ]
    }
   ],
   "source": [
    "grid_searcher_dt = GridSearchCV(DecisionTreeClassifier(criterion='gini'), \n",
    "                              {'max_depth': np.arange(1, 500)}, cv=5, scoring='roc_auc', n_jobs=4)\n",
    "grid_searcher_dt.fit(small_data_frame, target_variable)\n",
    "\n",
    "print(grid_searcher_dt.best_score_)\n",
    "print(grid_searcher_dt.best_estimator_)"
   ]
  },
  {
   "cell_type": "markdown",
   "metadata": {},
   "source": [
    "Построим случайный лес, оптимизируя количество деревьев в нем \n",
    "(хотя количество деревьев можно и дальше наращивать (вопрос времени окончания рассчетов), это не приведет к переобучению)."
   ]
  },
  {
   "cell_type": "code",
   "execution_count": 270,
   "metadata": {
    "collapsed": false
   },
   "outputs": [
    {
     "name": "stdout",
     "output_type": "stream",
     "text": [
      "0.996648844701\n",
      "RandomForestClassifier(bootstrap=True, class_weight=None, criterion='entropy',\n",
      "            max_depth=None, max_features='auto', max_leaf_nodes=None,\n",
      "            min_samples_leaf=1, min_samples_split=2,\n",
      "            min_weight_fraction_leaf=0.0, n_estimators=346, n_jobs=1,\n",
      "            oob_score=False, random_state=None, verbose=0,\n",
      "            warm_start=False)\n"
     ]
    }
   ],
   "source": [
    "grid_searcher_rf = GridSearchCV(RandomForestClassifier(criterion='entropy'), \n",
    "                              {'n_estimators': np.arange(1, 1000, 5)}, cv=5, scoring='roc_auc', n_jobs=4)\n",
    "grid_searcher_rf.fit(small_data_frame, target_variable)\n",
    "\n",
    "print(grid_searcher_rf.best_score_)\n",
    "print(grid_searcher_rf.best_estimator_)"
   ]
  },
  {
   "cell_type": "markdown",
   "metadata": {},
   "source": [
    "Качество классификации подросло, что и было ожидаемо, \n",
    "так как ансамбль алгоритмов работает лучше, чем его отдельные представители."
   ]
  },
  {
   "cell_type": "markdown",
   "metadata": {},
   "source": [
    "Качество классификатора оценивалось процедурой 5-fold cross-validation, мерой качества был выбран показатель AUC."
   ]
  },
  {
   "cell_type": "markdown",
   "metadata": {},
   "source": [
    "Визуализируем качество моделей в зависимости от параметров"
   ]
  },
  {
   "cell_type": "code",
   "execution_count": 271,
   "metadata": {
    "collapsed": true
   },
   "outputs": [],
   "source": [
    "def plot_quality(gridSearcher, paramName):\n",
    "    means = []\n",
    "    stds = []\n",
    "    for elem in gridSearcher.grid_scores_:\n",
    "        means.append(np.mean(elem.cv_validation_scores))\n",
    "        stds.append(np.sqrt(np.var(elem.cv_validation_scores)))\n",
    "    means = np.array(means)\n",
    "    stds = np.array(stds)\n",
    "\n",
    "    params = gridSearcher.param_grid\n",
    "\n",
    "    plt.figure(figsize=(8, 6))\n",
    "    plt.plot(params[paramName], means)\n",
    "    plt.fill_between(params[paramName], means + stds, means - stds, alpha=0.3, facecolor='blue')\n",
    "    plt.xlabel(paramName)\n",
    "    plt.ylabel('AUC')"
   ]
  },
  {
   "cell_type": "code",
   "execution_count": 272,
   "metadata": {
    "collapsed": false
   },
   "outputs": [
    {
     "data": {
      "image/png": "[encoded data removed]",
      "text/plain": [
       "<matplotlib.figure.Figure at 0x7f47044e8f60>"
      ]
     },
     "metadata": {},
     "output_type": "display_data"
    },
    {
     "data": {
      "image/png": "[encoded data removed]",
      "text/plain": [
       "<matplotlib.figure.Figure at 0x7f47044e8f28>"
      ]
     },
     "metadata": {},
     "output_type": "display_data"
    }
   ],
   "source": [
    "plot_quality(grid_searcher_dt, 'max_depth')\n",
    "plot_quality(grid_searcher_rf, 'n_estimators')"
   ]
  },
  {
   "cell_type": "markdown",
   "metadata": {},
   "source": [
    "Выясним степень важности признаков нашего классификатора "
   ]
  },
  {
   "cell_type": "code",
   "execution_count": 273,
   "metadata": {
    "collapsed": false
   },
   "outputs": [
    {
     "name": "stdout",
     "output_type": "stream",
     "text": [
      "Feature ranking:\n",
      "1. feature 13 (0.265260)\n",
      "2. feature 15 (0.258360)\n",
      "3. feature 11 (0.098770)\n",
      "4. feature 12 (0.087454)\n",
      "5. feature 9 (0.045941)\n",
      "6. feature 14 (0.034822)\n",
      "7. feature 8 (0.032303)\n",
      "8. feature 16 (0.028635)\n",
      "9. feature 7 (0.028054)\n",
      "10. feature 3 (0.021931)\n",
      "11. feature 10 (0.021153)\n",
      "12. feature 1 (0.018582)\n",
      "13. feature 2 (0.015372)\n",
      "14. feature 4 (0.014786)\n",
      "15. feature 5 (0.014327)\n",
      "16. feature 6 (0.014252)\n"
     ]
    }
   ],
   "source": [
    "importances = grid_searcher_rf.best_estimator_.feature_importances_\n",
    "std = np.std([tree.feature_importances_ for tree in grid_searcher_rf.best_estimator_.estimators_],\n",
    "             axis=0)\n",
    "indices = np.argsort(importances)[::-1]\n",
    "\n",
    "# Print the feature ranking\n",
    "print(\"Feature ranking:\")\n",
    "\n",
    "for f in range(len(indices)):\n",
    "    print(\"%d. feature %d (%f)\" % (f + 1, indices[f] + 1, importances[indices[f]]))"
   ]
  }
 ],
 "metadata": {
  "kernelspec": {
   "display_name": "Python 3",
   "language": "python",
   "name": "python3"
  },
  "language_info": {
   "codemirror_mode": {
    "name": "ipython",
    "version": 3
   },
   "file_extension": ".py",
   "mimetype": "text/x-python",
   "name": "python",
   "nbconvert_exporter": "python",
   "pygments_lexer": "ipython3",
   "version": "3.4.0"
  }
 },
 "nbformat": 4,
 "nbformat_minor": 0
}
